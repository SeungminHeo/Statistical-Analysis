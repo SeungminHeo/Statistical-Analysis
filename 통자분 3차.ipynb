{
 "cells": [
  {
   "cell_type": "code",
   "execution_count": 1,
   "metadata": {},
   "outputs": [],
   "source": [
    "import scipy.stats as st\n",
    "import pandas as pd\n",
    "import numpy as np\n",
    "import matplotlib.pyplot as plt\n",
    "import seaborn as sns\n",
    "plt.style.use(\"seaborn-darkgrid\")\n",
    "import warnings"
   ]
  },
  {
   "cell_type": "code",
   "execution_count": 2,
   "metadata": {},
   "outputs": [],
   "source": [
    "data = pd.read_excel(\"SGI발급data.xlsx\")"
   ]
  },
  {
   "cell_type": "code",
   "execution_count": 3,
   "metadata": {},
   "outputs": [
    {
     "data": {
      "text/html": [
       "<div>\n",
       "<style scoped>\n",
       "    .dataframe tbody tr th:only-of-type {\n",
       "        vertical-align: middle;\n",
       "    }\n",
       "\n",
       "    .dataframe tbody tr th {\n",
       "        vertical-align: top;\n",
       "    }\n",
       "\n",
       "    .dataframe thead th {\n",
       "        text-align: right;\n",
       "    }\n",
       "</style>\n",
       "<table border=\"1\" class=\"dataframe\">\n",
       "  <thead>\n",
       "    <tr style=\"text-align: right;\">\n",
       "      <th></th>\n",
       "      <th>증권발급월</th>\n",
       "      <th>임차보증금액</th>\n",
       "      <th>계약기간시작일자</th>\n",
       "      <th>계약기간종료일자</th>\n",
       "      <th>지역</th>\n",
       "      <th>구</th>\n",
       "      <th>소재지기본주소</th>\n",
       "      <th>건물면적</th>\n",
       "    </tr>\n",
       "  </thead>\n",
       "  <tbody>\n",
       "    <tr>\n",
       "      <th>0</th>\n",
       "      <td>201501</td>\n",
       "      <td>85000000</td>\n",
       "      <td>20141113</td>\n",
       "      <td>20161112</td>\n",
       "      <td>강원도</td>\n",
       "      <td>NaN</td>\n",
       "      <td>강원 원주시 원동 274-4</td>\n",
       "      <td>84.00</td>\n",
       "    </tr>\n",
       "    <tr>\n",
       "      <th>1</th>\n",
       "      <td>201501</td>\n",
       "      <td>190000000</td>\n",
       "      <td>20150105</td>\n",
       "      <td>20170105</td>\n",
       "      <td>경기도</td>\n",
       "      <td>NaN</td>\n",
       "      <td>경기 김포시 풍무동 759</td>\n",
       "      <td>118.63</td>\n",
       "    </tr>\n",
       "    <tr>\n",
       "      <th>2</th>\n",
       "      <td>201501</td>\n",
       "      <td>210000000</td>\n",
       "      <td>20141231</td>\n",
       "      <td>20161231</td>\n",
       "      <td>경기도</td>\n",
       "      <td>NaN</td>\n",
       "      <td>경기 남양주시 별내동 872</td>\n",
       "      <td>124.06</td>\n",
       "    </tr>\n",
       "    <tr>\n",
       "      <th>3</th>\n",
       "      <td>201501</td>\n",
       "      <td>120000000</td>\n",
       "      <td>20150116</td>\n",
       "      <td>20160115</td>\n",
       "      <td>경기도</td>\n",
       "      <td>NaN</td>\n",
       "      <td>경기 남양주시 별내면</td>\n",
       "      <td>59.89</td>\n",
       "    </tr>\n",
       "    <tr>\n",
       "      <th>4</th>\n",
       "      <td>201501</td>\n",
       "      <td>37000000</td>\n",
       "      <td>20140620</td>\n",
       "      <td>20160619</td>\n",
       "      <td>경기도</td>\n",
       "      <td>NaN</td>\n",
       "      <td>경기 시흥시 거모동 612-1</td>\n",
       "      <td>25.12</td>\n",
       "    </tr>\n",
       "  </tbody>\n",
       "</table>\n",
       "</div>"
      ],
      "text/plain": [
       "    증권발급월     임차보증금액  계약기간시작일자  계약기간종료일자   지역    구           소재지기본주소    건물면적\n",
       "0  201501   85000000  20141113  20161112  강원도  NaN   강원 원주시 원동 274-4   84.00\n",
       "1  201501  190000000  20150105  20170105  경기도  NaN    경기 김포시 풍무동 759  118.63\n",
       "2  201501  210000000  20141231  20161231  경기도  NaN   경기 남양주시 별내동 872  124.06\n",
       "3  201501  120000000  20150116  20160115  경기도  NaN       경기 남양주시 별내면   59.89\n",
       "4  201501   37000000  20140620  20160619  경기도  NaN  경기 시흥시 거모동 612-1   25.12"
      ]
     },
     "execution_count": 3,
     "metadata": {},
     "output_type": "execute_result"
    }
   ],
   "source": [
    "data.head()"
   ]
  },
  {
   "cell_type": "code",
   "execution_count": 4,
   "metadata": {},
   "outputs": [],
   "source": [
    "data.계약기간시작일자 = data.계약기간시작일자.astype(\"object\")\n",
    "data.계약기간종료일자 = data.계약기간종료일자.astype(\"object\")\n",
    "data.임차보증금액 = data.임차보증금액/1000000"
   ]
  },
  {
   "cell_type": "code",
   "execution_count": 5,
   "metadata": {},
   "outputs": [
    {
     "data": {
      "text/html": [
       "<div>\n",
       "<style scoped>\n",
       "    .dataframe tbody tr th:only-of-type {\n",
       "        vertical-align: middle;\n",
       "    }\n",
       "\n",
       "    .dataframe tbody tr th {\n",
       "        vertical-align: top;\n",
       "    }\n",
       "\n",
       "    .dataframe thead th {\n",
       "        text-align: right;\n",
       "    }\n",
       "</style>\n",
       "<table border=\"1\" class=\"dataframe\">\n",
       "  <thead>\n",
       "    <tr style=\"text-align: right;\">\n",
       "      <th></th>\n",
       "      <th>증권발급월</th>\n",
       "      <th>임차보증금액</th>\n",
       "      <th>건물면적</th>\n",
       "    </tr>\n",
       "  </thead>\n",
       "  <tbody>\n",
       "    <tr>\n",
       "      <th>count</th>\n",
       "      <td>2291.00</td>\n",
       "      <td>2291.00</td>\n",
       "      <td>2291.00</td>\n",
       "    </tr>\n",
       "    <tr>\n",
       "      <th>mean</th>\n",
       "      <td>201507.36</td>\n",
       "      <td>276.28</td>\n",
       "      <td>185.89</td>\n",
       "    </tr>\n",
       "    <tr>\n",
       "      <th>std</th>\n",
       "      <td>3.47</td>\n",
       "      <td>175.69</td>\n",
       "      <td>2625.12</td>\n",
       "    </tr>\n",
       "    <tr>\n",
       "      <th>min</th>\n",
       "      <td>201501.00</td>\n",
       "      <td>10.00</td>\n",
       "      <td>11.00</td>\n",
       "    </tr>\n",
       "    <tr>\n",
       "      <th>25%</th>\n",
       "      <td>201504.00</td>\n",
       "      <td>170.00</td>\n",
       "      <td>60.23</td>\n",
       "    </tr>\n",
       "    <tr>\n",
       "      <th>50%</th>\n",
       "      <td>201508.00</td>\n",
       "      <td>240.00</td>\n",
       "      <td>84.90</td>\n",
       "    </tr>\n",
       "    <tr>\n",
       "      <th>75%</th>\n",
       "      <td>201511.00</td>\n",
       "      <td>340.00</td>\n",
       "      <td>101.97</td>\n",
       "    </tr>\n",
       "    <tr>\n",
       "      <th>max</th>\n",
       "      <td>201512.00</td>\n",
       "      <td>2000.00</td>\n",
       "      <td>91716.60</td>\n",
       "    </tr>\n",
       "  </tbody>\n",
       "</table>\n",
       "</div>"
      ],
      "text/plain": [
       "           증권발급월   임차보증금액      건물면적\n",
       "count    2291.00  2291.00   2291.00\n",
       "mean   201507.36   276.28    185.89\n",
       "std         3.47   175.69   2625.12\n",
       "min    201501.00    10.00     11.00\n",
       "25%    201504.00   170.00     60.23\n",
       "50%    201508.00   240.00     84.90\n",
       "75%    201511.00   340.00    101.97\n",
       "max    201512.00  2000.00  91716.60"
      ]
     },
     "execution_count": 5,
     "metadata": {},
     "output_type": "execute_result"
    }
   ],
   "source": [
    "round(data.describe(), 2)"
   ]
  },
  {
   "cell_type": "code",
   "execution_count": 6,
   "metadata": {},
   "outputs": [],
   "source": [
    "# 한글 깨짐 보정\n",
    "\n",
    "import matplotlib\n",
    "from matplotlib import font_manager, rc\n",
    "import platform\n",
    "\n",
    "if platform.system() == 'Windows' :\n",
    "    font_name = font_manager.FontProperties(fname=\"C:/Windows/Fonts/malgun.ttf\").get_name()\n",
    "    rc('font', family = font_name)\n",
    "    "
   ]
  },
  {
   "cell_type": "code",
   "execution_count": 7,
   "metadata": {
    "scrolled": false
   },
   "outputs": [
    {
     "data": {
      "text/plain": [
       "<matplotlib.axes._subplots.AxesSubplot at 0x18333838278>"
      ]
     },
     "execution_count": 7,
     "metadata": {},
     "output_type": "execute_result"
    },
    {
     "data": {
      "image/png": "[encoded data removed]",
      "text/plain": [
       "<Figure size 2160x720 with 1 Axes>"
      ]
     },
     "metadata": {},
     "output_type": "display_data"
    }
   ],
   "source": [
    "plt.figure(figsize = (30,10))\n",
    "sns.boxplot(y = \"임차보증금액\", x = '지역', data = data, orient = 'v' )"
   ]
  },
  {
   "cell_type": "code",
   "execution_count": 8,
   "metadata": {},
   "outputs": [
    {
     "name": "stderr",
     "output_type": "stream",
     "text": [
      "C:\\Users\\hawi7\\Anaconda3\\lib\\site-packages\\numpy\\core\\fromnumeric.py:56: FutureWarning: \n",
      "The current behaviour of 'Series.argmax' is deprecated, use 'idxmax'\n",
      "instead.\n",
      "The behavior of 'argmax' will be corrected to return the positional\n",
      "maximum in the future. For now, use 'series.values.argmax' or\n",
      "'np.argmax(np.array(values))' to get the position of the maximum\n",
      "row.\n",
      "  return getattr(obj, method)(*args, **kwds)\n"
     ]
    },
    {
     "data": {
      "text/plain": [
       "증권발급월              201511\n",
       "임차보증금액                450\n",
       "계약기간시작일자         20151030\n",
       "계약기간종료일자         20171029\n",
       "지역                   경상남도\n",
       "구                     NaN\n",
       "소재지기본주소     창원 성산구 반림동 18\n",
       "건물면적               129.52\n",
       "Name: 1939, dtype: object"
      ]
     },
     "execution_count": 8,
     "metadata": {},
     "output_type": "execute_result"
    }
   ],
   "source": [
    "kn = data[lambda x : x['지역']== '경상남도']\n",
    "data.loc[np.argmax(kn['임차보증금액']), :]"
   ]
  },
  {
   "cell_type": "code",
   "execution_count": 9,
   "metadata": {},
   "outputs": [
    {
     "name": "stdout",
     "output_type": "stream",
     "text": [
      "지역\n",
      "강원도     117.33\n",
      "경기도     260.06\n",
      "경상남도    163.84\n",
      "경상북도    137.08\n",
      "광주      158.43\n",
      "대구      271.41\n",
      "대전      140.76\n",
      "부산      188.94\n",
      "서울      437.32\n",
      "세종      124.00\n",
      "울산      178.71\n",
      "인천      242.73\n",
      "전라남도     95.92\n",
      "전라북도    135.85\n",
      "제주      155.00\n",
      "충청남도    169.80\n",
      "충청북도    139.23\n",
      "Name: 임차보증금액, dtype: float64\n",
      "지역\n",
      "강원도     107.5\n",
      "경기도     230.0\n",
      "경상남도    150.0\n",
      "경상북도    132.5\n",
      "광주      150.0\n",
      "대구      235.0\n",
      "대전      140.0\n",
      "부산      170.0\n",
      "서울      400.0\n",
      "세종      120.0\n",
      "울산      160.0\n",
      "인천      250.0\n",
      "전라남도     80.0\n",
      "전라북도    130.0\n",
      "제주      155.0\n",
      "충청남도    160.0\n",
      "충청북도    125.0\n",
      "Name: 임차보증금액, dtype: float64\n"
     ]
    }
   ],
   "source": [
    "print(round(data.groupby(\"지역\").mean()[\"임차보증금액\"], 2))\n",
    "print(round(data.groupby(\"지역\").median()[\"임차보증금액\"], 2))"
   ]
  },
  {
   "cell_type": "code",
   "execution_count": 10,
   "metadata": {},
   "outputs": [
    {
     "data": {
      "text/html": [
       "<div>\n",
       "<style scoped>\n",
       "    .dataframe tbody tr th:only-of-type {\n",
       "        vertical-align: middle;\n",
       "    }\n",
       "\n",
       "    .dataframe tbody tr th {\n",
       "        vertical-align: top;\n",
       "    }\n",
       "\n",
       "    .dataframe thead th {\n",
       "        text-align: right;\n",
       "    }\n",
       "</style>\n",
       "<table border=\"1\" class=\"dataframe\">\n",
       "  <thead>\n",
       "    <tr style=\"text-align: right;\">\n",
       "      <th></th>\n",
       "      <th>증권발급월</th>\n",
       "      <th>임차보증금액</th>\n",
       "      <th>계약기간시작일자</th>\n",
       "      <th>계약기간종료일자</th>\n",
       "      <th>구</th>\n",
       "      <th>소재지기본주소</th>\n",
       "      <th>건물면적</th>\n",
       "    </tr>\n",
       "    <tr>\n",
       "      <th>지역</th>\n",
       "      <th></th>\n",
       "      <th></th>\n",
       "      <th></th>\n",
       "      <th></th>\n",
       "      <th></th>\n",
       "      <th></th>\n",
       "      <th></th>\n",
       "    </tr>\n",
       "  </thead>\n",
       "  <tbody>\n",
       "    <tr>\n",
       "      <th>강원도</th>\n",
       "      <td>30</td>\n",
       "      <td>30</td>\n",
       "      <td>30</td>\n",
       "      <td>30</td>\n",
       "      <td>0</td>\n",
       "      <td>30</td>\n",
       "      <td>30</td>\n",
       "    </tr>\n",
       "    <tr>\n",
       "      <th>경기도</th>\n",
       "      <td>668</td>\n",
       "      <td>668</td>\n",
       "      <td>668</td>\n",
       "      <td>668</td>\n",
       "      <td>0</td>\n",
       "      <td>668</td>\n",
       "      <td>668</td>\n",
       "    </tr>\n",
       "    <tr>\n",
       "      <th>경상남도</th>\n",
       "      <td>86</td>\n",
       "      <td>86</td>\n",
       "      <td>86</td>\n",
       "      <td>86</td>\n",
       "      <td>0</td>\n",
       "      <td>86</td>\n",
       "      <td>86</td>\n",
       "    </tr>\n",
       "    <tr>\n",
       "      <th>경상북도</th>\n",
       "      <td>72</td>\n",
       "      <td>72</td>\n",
       "      <td>72</td>\n",
       "      <td>72</td>\n",
       "      <td>0</td>\n",
       "      <td>72</td>\n",
       "      <td>72</td>\n",
       "    </tr>\n",
       "    <tr>\n",
       "      <th>광주</th>\n",
       "      <td>21</td>\n",
       "      <td>21</td>\n",
       "      <td>21</td>\n",
       "      <td>21</td>\n",
       "      <td>0</td>\n",
       "      <td>21</td>\n",
       "      <td>21</td>\n",
       "    </tr>\n",
       "    <tr>\n",
       "      <th>대구</th>\n",
       "      <td>92</td>\n",
       "      <td>92</td>\n",
       "      <td>92</td>\n",
       "      <td>92</td>\n",
       "      <td>0</td>\n",
       "      <td>92</td>\n",
       "      <td>92</td>\n",
       "    </tr>\n",
       "    <tr>\n",
       "      <th>대전</th>\n",
       "      <td>41</td>\n",
       "      <td>41</td>\n",
       "      <td>41</td>\n",
       "      <td>41</td>\n",
       "      <td>0</td>\n",
       "      <td>41</td>\n",
       "      <td>41</td>\n",
       "    </tr>\n",
       "    <tr>\n",
       "      <th>부산</th>\n",
       "      <td>125</td>\n",
       "      <td>125</td>\n",
       "      <td>125</td>\n",
       "      <td>125</td>\n",
       "      <td>0</td>\n",
       "      <td>125</td>\n",
       "      <td>125</td>\n",
       "    </tr>\n",
       "    <tr>\n",
       "      <th>서울</th>\n",
       "      <td>561</td>\n",
       "      <td>561</td>\n",
       "      <td>561</td>\n",
       "      <td>561</td>\n",
       "      <td>561</td>\n",
       "      <td>561</td>\n",
       "      <td>561</td>\n",
       "    </tr>\n",
       "    <tr>\n",
       "      <th>세종</th>\n",
       "      <td>5</td>\n",
       "      <td>5</td>\n",
       "      <td>5</td>\n",
       "      <td>5</td>\n",
       "      <td>0</td>\n",
       "      <td>5</td>\n",
       "      <td>5</td>\n",
       "    </tr>\n",
       "    <tr>\n",
       "      <th>울산</th>\n",
       "      <td>17</td>\n",
       "      <td>17</td>\n",
       "      <td>17</td>\n",
       "      <td>17</td>\n",
       "      <td>0</td>\n",
       "      <td>17</td>\n",
       "      <td>17</td>\n",
       "    </tr>\n",
       "    <tr>\n",
       "      <th>인천</th>\n",
       "      <td>418</td>\n",
       "      <td>418</td>\n",
       "      <td>418</td>\n",
       "      <td>418</td>\n",
       "      <td>0</td>\n",
       "      <td>418</td>\n",
       "      <td>418</td>\n",
       "    </tr>\n",
       "    <tr>\n",
       "      <th>전라남도</th>\n",
       "      <td>13</td>\n",
       "      <td>13</td>\n",
       "      <td>13</td>\n",
       "      <td>13</td>\n",
       "      <td>0</td>\n",
       "      <td>13</td>\n",
       "      <td>13</td>\n",
       "    </tr>\n",
       "    <tr>\n",
       "      <th>전라북도</th>\n",
       "      <td>27</td>\n",
       "      <td>27</td>\n",
       "      <td>27</td>\n",
       "      <td>27</td>\n",
       "      <td>0</td>\n",
       "      <td>27</td>\n",
       "      <td>27</td>\n",
       "    </tr>\n",
       "    <tr>\n",
       "      <th>제주</th>\n",
       "      <td>2</td>\n",
       "      <td>2</td>\n",
       "      <td>2</td>\n",
       "      <td>2</td>\n",
       "      <td>0</td>\n",
       "      <td>2</td>\n",
       "      <td>2</td>\n",
       "    </tr>\n",
       "    <tr>\n",
       "      <th>충청남도</th>\n",
       "      <td>87</td>\n",
       "      <td>87</td>\n",
       "      <td>87</td>\n",
       "      <td>87</td>\n",
       "      <td>0</td>\n",
       "      <td>87</td>\n",
       "      <td>87</td>\n",
       "    </tr>\n",
       "    <tr>\n",
       "      <th>충청북도</th>\n",
       "      <td>26</td>\n",
       "      <td>26</td>\n",
       "      <td>26</td>\n",
       "      <td>26</td>\n",
       "      <td>0</td>\n",
       "      <td>26</td>\n",
       "      <td>26</td>\n",
       "    </tr>\n",
       "  </tbody>\n",
       "</table>\n",
       "</div>"
      ],
      "text/plain": [
       "      증권발급월  임차보증금액  계약기간시작일자  계약기간종료일자    구  소재지기본주소  건물면적\n",
       "지역                                                         \n",
       "강원도      30      30        30        30    0       30    30\n",
       "경기도     668     668       668       668    0      668   668\n",
       "경상남도     86      86        86        86    0       86    86\n",
       "경상북도     72      72        72        72    0       72    72\n",
       "광주       21      21        21        21    0       21    21\n",
       "대구       92      92        92        92    0       92    92\n",
       "대전       41      41        41        41    0       41    41\n",
       "부산      125     125       125       125    0      125   125\n",
       "서울      561     561       561       561  561      561   561\n",
       "세종        5       5         5         5    0        5     5\n",
       "울산       17      17        17        17    0       17    17\n",
       "인천      418     418       418       418    0      418   418\n",
       "전라남도     13      13        13        13    0       13    13\n",
       "전라북도     27      27        27        27    0       27    27\n",
       "제주        2       2         2         2    0        2     2\n",
       "충청남도     87      87        87        87    0       87    87\n",
       "충청북도     26      26        26        26    0       26    26"
      ]
     },
     "execution_count": 10,
     "metadata": {},
     "output_type": "execute_result"
    }
   ],
   "source": [
    "data.groupby(\"지역\").count()"
   ]
  },
  {
   "cell_type": "markdown",
   "metadata": {},
   "source": [
    "---\n",
    "전세금 상승이 지속되고 있다. 깡통전세의 위험이 커짐에 따라 전세금을 보장할 수 있는 상품의 수요도 커지고 있다. 전세금 보장 상품은 주택도시보증공사(HUG)의 “전세보증금반환보증”과 서울보증보험(SGI)의 “전세금보장신용보험”이 있다. HUG 는 전세보증금 400 백만원(수도권 이외는 300 백만원) 까지만 보장가능 하지만 SGI 는 금액제한이 없다. \n",
    "\n",
    "두 방송사에서 HUG 의 보증금액을 현실화 시켜야 한다는 주장을 펼치고 있다. SGI 의 전세금보장신용보험 발급건(붙임 참조)에서 표본을 추출하여 평균 전세금을 구하여 보니 A 방송사는 683 백만원, B 방송사는 514 백만원을 발표했다. 이에 기초하여 A 방송사는 600 백만원, B 방송사는 500 백만원으로 보증금액 한도를 상향해야 한다고 주장하고 있다."
   ]
  },
  {
   "cell_type": "markdown",
   "metadata": {},
   "source": [
    "### Q1 : 방송사 A,B 의 주장의 문제점을 지적하고, 새롭게 주장하는 상향 조정된 보증금액에  대하여 논하라.\n",
    "\n",
    "<img src=\"두 상품 비교.jpg\" width = \"500\">"
   ]
  },
  {
   "cell_type": "markdown",
   "metadata": {},
   "source": [
    "먼저 전세금을 보장해주는 보험에 대해서 이해하기 위해 HUG와 SGI의 최근 가입조건 및 상품 설명을 살펴보자. 이를 살펴보면 HUG와 SGI를 직접 비교하기에는 무리가 있다. 두 상품의 조건의 중요한 차이점은 두가지로 요약할 수 있다.\n",
    "\n",
    "- 가입조건의 차이 : HUG는 금액 제한이 있지만 SGI의 경우 금액제한이 없다.\n",
    "- 보증한도 금액의 차이 : HUG는 80%/60%, SGI의 경우 신청 금액 전체\n",
    "\n",
    "따라서 SGI의 자료를 이용해서 상황을 해석하여 HUG에 적용하기에는 문제가 있다. 이유를 정리하면 크게 두가지 이유를 파악할 수 있다. 두 방송사가 SGI 자료를 표본추출하여 평균을 구한 값이 1억 가까이 차이가 남을 확인할 수 있다. SGI 자료는 변동이 큰 자료이며 지역별로 파악해보아도 통상적인 가격 범위를 벗어나는 대상이 서울, 경기지역을 중심으로 매우 차이가나는 것을 확인할 수 있다. 따라서 보증금액의 상향을 논하기에는 평균이나 중간값이 적절한 지표가 될 수 없다. 또한 보증한도의 적용 비율이 HUG의 경우 80%/60%로 보장범위가 다르며, 가입조건의 제한이 존재하기 때문에 SGI의 전체 데이터에서 표본을 추출한 값을 비교대상으로 사용하기에는 문제가 있다. "
   ]
  },
  {
   "cell_type": "markdown",
   "metadata": {},
   "source": [
    "### Q2: HUG 정책 담당자의 입장에서 새로운 보증금액 한도 산출을 위한 객관적이고 타당한 절차를 제시하라."
   ]
  },
  {
   "cell_type": "code",
   "execution_count": 11,
   "metadata": {},
   "outputs": [],
   "source": [
    "def mapper(x) :\n",
    "    if x == \"서울\" or x == \"경기도\" :\n",
    "        return '수도권'\n",
    "    else :\n",
    "        return '비수도권'"
   ]
  },
  {
   "cell_type": "code",
   "execution_count": 12,
   "metadata": {},
   "outputs": [],
   "source": [
    "data['수도권분류'] = data.지역.apply(mapper)"
   ]
  },
  {
   "cell_type": "code",
   "execution_count": 13,
   "metadata": {},
   "outputs": [
    {
     "data": {
      "text/html": [
       "<div>\n",
       "<style scoped>\n",
       "    .dataframe tbody tr th:only-of-type {\n",
       "        vertical-align: middle;\n",
       "    }\n",
       "\n",
       "    .dataframe tbody tr th {\n",
       "        vertical-align: top;\n",
       "    }\n",
       "\n",
       "    .dataframe thead th {\n",
       "        text-align: right;\n",
       "    }\n",
       "</style>\n",
       "<table border=\"1\" class=\"dataframe\">\n",
       "  <thead>\n",
       "    <tr style=\"text-align: right;\">\n",
       "      <th></th>\n",
       "      <th>증권발급월</th>\n",
       "      <th>임차보증금액</th>\n",
       "      <th>건물면적</th>\n",
       "    </tr>\n",
       "    <tr>\n",
       "      <th>수도권분류</th>\n",
       "      <th></th>\n",
       "      <th></th>\n",
       "      <th></th>\n",
       "    </tr>\n",
       "  </thead>\n",
       "  <tbody>\n",
       "    <tr>\n",
       "      <th>비수도권</th>\n",
       "      <td>201507.12</td>\n",
       "      <td>201.42</td>\n",
       "      <td>152.34</td>\n",
       "    </tr>\n",
       "    <tr>\n",
       "      <th>수도권</th>\n",
       "      <td>201507.57</td>\n",
       "      <td>340.97</td>\n",
       "      <td>214.89</td>\n",
       "    </tr>\n",
       "  </tbody>\n",
       "</table>\n",
       "</div>"
      ],
      "text/plain": [
       "           증권발급월  임차보증금액    건물면적\n",
       "수도권분류                           \n",
       "비수도권   201507.12  201.42  152.34\n",
       "수도권    201507.57  340.97  214.89"
      ]
     },
     "execution_count": 13,
     "metadata": {},
     "output_type": "execute_result"
    }
   ],
   "source": [
    "round(data.groupby('수도권분류').mean(), 2)"
   ]
  },
  {
   "cell_type": "code",
   "execution_count": 14,
   "metadata": {},
   "outputs": [
    {
     "data": {
      "text/html": [
       "<div>\n",
       "<style scoped>\n",
       "    .dataframe tbody tr th:only-of-type {\n",
       "        vertical-align: middle;\n",
       "    }\n",
       "\n",
       "    .dataframe tbody tr th {\n",
       "        vertical-align: top;\n",
       "    }\n",
       "\n",
       "    .dataframe thead th {\n",
       "        text-align: right;\n",
       "    }\n",
       "</style>\n",
       "<table border=\"1\" class=\"dataframe\">\n",
       "  <thead>\n",
       "    <tr style=\"text-align: right;\">\n",
       "      <th></th>\n",
       "      <th>증권발급월</th>\n",
       "      <th>임차보증금액</th>\n",
       "      <th>계약기간시작일자</th>\n",
       "      <th>계약기간종료일자</th>\n",
       "      <th>지역</th>\n",
       "      <th>구</th>\n",
       "      <th>소재지기본주소</th>\n",
       "      <th>건물면적</th>\n",
       "    </tr>\n",
       "    <tr>\n",
       "      <th>수도권분류</th>\n",
       "      <th></th>\n",
       "      <th></th>\n",
       "      <th></th>\n",
       "      <th></th>\n",
       "      <th></th>\n",
       "      <th></th>\n",
       "      <th></th>\n",
       "      <th></th>\n",
       "    </tr>\n",
       "  </thead>\n",
       "  <tbody>\n",
       "    <tr>\n",
       "      <th>비수도권</th>\n",
       "      <td>1062</td>\n",
       "      <td>1062</td>\n",
       "      <td>1062</td>\n",
       "      <td>1062</td>\n",
       "      <td>1062</td>\n",
       "      <td>0</td>\n",
       "      <td>1062</td>\n",
       "      <td>1062</td>\n",
       "    </tr>\n",
       "    <tr>\n",
       "      <th>수도권</th>\n",
       "      <td>1229</td>\n",
       "      <td>1229</td>\n",
       "      <td>1229</td>\n",
       "      <td>1229</td>\n",
       "      <td>1229</td>\n",
       "      <td>561</td>\n",
       "      <td>1229</td>\n",
       "      <td>1229</td>\n",
       "    </tr>\n",
       "  </tbody>\n",
       "</table>\n",
       "</div>"
      ],
      "text/plain": [
       "       증권발급월  임차보증금액  계약기간시작일자  계약기간종료일자    지역    구  소재지기본주소  건물면적\n",
       "수도권분류                                                             \n",
       "비수도권    1062    1062      1062      1062  1062    0     1062  1062\n",
       "수도권     1229    1229      1229      1229  1229  561     1229  1229"
      ]
     },
     "execution_count": 14,
     "metadata": {},
     "output_type": "execute_result"
    }
   ],
   "source": [
    "data.groupby('수도권분류').count()"
   ]
  },
  {
   "cell_type": "code",
   "execution_count": 15,
   "metadata": {},
   "outputs": [],
   "source": [
    "data[\"면적 당 보증금\"] = round(data.임차보증금액/ data.건물면적, 2)"
   ]
  },
  {
   "cell_type": "code",
   "execution_count": 16,
   "metadata": {},
   "outputs": [
    {
     "data": {
      "text/html": [
       "<div>\n",
       "<style scoped>\n",
       "    .dataframe tbody tr th:only-of-type {\n",
       "        vertical-align: middle;\n",
       "    }\n",
       "\n",
       "    .dataframe tbody tr th {\n",
       "        vertical-align: top;\n",
       "    }\n",
       "\n",
       "    .dataframe thead th {\n",
       "        text-align: right;\n",
       "    }\n",
       "</style>\n",
       "<table border=\"1\" class=\"dataframe\">\n",
       "  <thead>\n",
       "    <tr style=\"text-align: right;\">\n",
       "      <th></th>\n",
       "      <th>count</th>\n",
       "      <th>mean</th>\n",
       "      <th>std</th>\n",
       "      <th>min</th>\n",
       "      <th>25%</th>\n",
       "      <th>50%</th>\n",
       "      <th>75%</th>\n",
       "      <th>max</th>\n",
       "    </tr>\n",
       "    <tr>\n",
       "      <th>수도권분류</th>\n",
       "      <th></th>\n",
       "      <th></th>\n",
       "      <th></th>\n",
       "      <th></th>\n",
       "      <th></th>\n",
       "      <th></th>\n",
       "      <th></th>\n",
       "      <th></th>\n",
       "    </tr>\n",
       "  </thead>\n",
       "  <tbody>\n",
       "    <tr>\n",
       "      <th>비수도권</th>\n",
       "      <td>1062.0</td>\n",
       "      <td>201.416196</td>\n",
       "      <td>96.384079</td>\n",
       "      <td>20.0</td>\n",
       "      <td>130.0</td>\n",
       "      <td>200.0</td>\n",
       "      <td>260.0</td>\n",
       "      <td>800.0</td>\n",
       "    </tr>\n",
       "    <tr>\n",
       "      <th>수도권</th>\n",
       "      <td>1229.0</td>\n",
       "      <td>340.970708</td>\n",
       "      <td>201.237667</td>\n",
       "      <td>10.0</td>\n",
       "      <td>210.0</td>\n",
       "      <td>300.0</td>\n",
       "      <td>420.0</td>\n",
       "      <td>2000.0</td>\n",
       "    </tr>\n",
       "  </tbody>\n",
       "</table>\n",
       "</div>"
      ],
      "text/plain": [
       "        count        mean         std   min    25%    50%    75%     max\n",
       "수도권분류                                                                   \n",
       "비수도권   1062.0  201.416196   96.384079  20.0  130.0  200.0  260.0   800.0\n",
       "수도권    1229.0  340.970708  201.237667  10.0  210.0  300.0  420.0  2000.0"
      ]
     },
     "execution_count": 16,
     "metadata": {},
     "output_type": "execute_result"
    }
   ],
   "source": [
    "data.groupby('수도권분류')['임차보증금액'].describe()"
   ]
  },
  {
   "cell_type": "code",
   "execution_count": 25,
   "metadata": {},
   "outputs": [
    {
     "data": {
      "text/plain": [
       "<matplotlib.axes._subplots.AxesSubplot at 0x18335b6acf8>"
      ]
     },
     "execution_count": 25,
     "metadata": {},
     "output_type": "execute_result"
    },
    {
     "data": {
      "image/png": "[encoded data removed]",
      "text/plain": [
       "<Figure size 432x288 with 1 Axes>"
      ]
     },
     "metadata": {},
     "output_type": "display_data"
    }
   ],
   "source": [
    "sns.boxplot(y = data.임차보증금액, x = data.수도권분류)"
   ]
  },
  {
   "cell_type": "code",
   "execution_count": 33,
   "metadata": {},
   "outputs": [],
   "source": [
    "Seoul = data.loc[lambda x : x[\"수도권분류\"]=='수도권','임차보증금액']\n",
    "other = data.loc[lambda x : x[\"수도권분류\"]!='수도권', '임차보증금액']"
   ]
  },
  {
   "cell_type": "code",
   "execution_count": 34,
   "metadata": {},
   "outputs": [],
   "source": [
    "Seoul_idx = round(len(Seoul)*0.8)\n",
    "other_idx = round(len(other)*0.8)"
   ]
  },
  {
   "cell_type": "code",
   "execution_count": 42,
   "metadata": {},
   "outputs": [
    {
     "name": "stdout",
     "output_type": "stream",
     "text": [
      "=====  중산층 마지노선 건물 가치 ===== \n",
      "460.0\n",
      "280.0\n",
      "=====  건물가치에 따른 보증 한도 ===== \n",
      "3.7\n",
      "2.24\n"
     ]
    }
   ],
   "source": [
    "print(\"=====  중산층 마지노선 건물 가치 ===== \")\n",
    "print(sorted(Seoul)[Seoul_idx])\n",
    "print(sorted(other)[other_idx])\n",
    "print(\"=====  건물가치에 따른 보증 한도 ===== \")\n",
    "print(round(4.6 * 0.8,1))\n",
    "print(round(2.8 * 0.8,2))\n"
   ]
  },
  {
   "cell_type": "code",
   "execution_count": 37,
   "metadata": {},
   "outputs": [
    {
     "data": {
      "text/plain": [
       "280.0"
      ]
     },
     "execution_count": 37,
     "metadata": {},
     "output_type": "execute_result"
    }
   ],
   "source": []
  },
  {
   "cell_type": "code",
   "execution_count": 40,
   "metadata": {},
   "outputs": [
    {
     "data": {
      "text/plain": [
       "3.7"
      ]
     },
     "execution_count": 40,
     "metadata": {},
     "output_type": "execute_result"
    }
   ],
   "source": []
  },
  {
   "cell_type": "code",
   "execution_count": 41,
   "metadata": {},
   "outputs": [
    {
     "data": {
      "text/plain": [
       "2.24"
      ]
     },
     "execution_count": 41,
     "metadata": {},
     "output_type": "execute_result"
    }
   ],
   "source": []
  },
  {
   "cell_type": "markdown",
   "metadata": {},
   "source": [
    "### Q3. HUG 는 서민 주거 안정을 통한 주거 복진 증진이라는 설립 이념을 갖고 있다. 그럼 “서민 주거”라고 할 수 있는 전세금 수준은 얼마인지 논하라."
   ]
  },
  {
   "cell_type": "code",
   "execution_count": null,
   "metadata": {},
   "outputs": [],
   "source": []
  },
  {
   "cell_type": "code",
   "execution_count": null,
   "metadata": {},
   "outputs": [],
   "source": []
  }
 ],
 "metadata": {
  "kernelspec": {
   "display_name": "Python 3",
   "language": "python",
   "name": "python3"
  },
  "language_info": {
   "codemirror_mode": {
    "name": "ipython",
    "version": 3
   },
   "file_extension": ".py",
   "mimetype": "text/x-python",
   "name": "python",
   "nbconvert_exporter": "python",
   "pygments_lexer": "ipython3",
   "version": "3.6.5"
  }
 },
 "nbformat": 4,
 "nbformat_minor": 2
}
